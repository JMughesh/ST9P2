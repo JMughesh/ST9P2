{
  "nbformat": 4,
  "nbformat_minor": 0,
  "metadata": {
    "colab": {
      "provenance": []
    },
    "kernelspec": {
      "name": "python3",
      "display_name": "Python 3"
    },
    "language_info": {
      "name": "python"
    }
  },
  "cells": [
    {
      "cell_type": "code",
      "execution_count": null,
      "metadata": {
        "id": "Upo_Jfm77xxF"
      },
      "outputs": [],
      "source": []
    },
    {
      "cell_type": "code",
      "source": [
        "from sklearn.datasets import load_wine\n",
        "import pandas as pd\n",
        "\n",
        "# Load the dataset\n",
        "wine = load_wine()"
      ],
      "metadata": {
        "id": "YVoUB52d8USR"
      },
      "execution_count": 1,
      "outputs": []
    },
    {
      "cell_type": "code",
      "source": [
        "# Convert to DataFrame\n",
        "X = pd.DataFrame(wine.data, columns=wine.feature_names)\n",
        "y = pd.Series(wine.target, name='target')"
      ],
      "metadata": {
        "id": "qVeRkflb8aG2"
      },
      "execution_count": 2,
      "outputs": []
    },
    {
      "cell_type": "code",
      "source": [
        "# Short Summary\n",
        "print(\"Features Shape:\", X.shape)\n",
        "print(\"Target Classes:\", wine.target_names)\n",
        "print(\"Feature Names:\", wine.feature_names)\n",
        "print(\"Class Distribution:\\n\", y.value_counts())"
      ],
      "metadata": {
        "colab": {
          "base_uri": "https://localhost:8080/"
        },
        "id": "Ba1Swyv18eEa",
        "outputId": "7c9f9816-d8d4-46c8-a827-7e9d75b34403"
      },
      "execution_count": 3,
      "outputs": [
        {
          "output_type": "stream",
          "name": "stdout",
          "text": [
            "Features Shape: (178, 13)\n",
            "Target Classes: ['class_0' 'class_1' 'class_2']\n",
            "Feature Names: ['alcohol', 'malic_acid', 'ash', 'alcalinity_of_ash', 'magnesium', 'total_phenols', 'flavanoids', 'nonflavanoid_phenols', 'proanthocyanins', 'color_intensity', 'hue', 'od280/od315_of_diluted_wines', 'proline']\n",
            "Class Distribution:\n",
            " target\n",
            "1    71\n",
            "0    59\n",
            "2    48\n",
            "Name: count, dtype: int64\n"
          ]
        }
      ]
    },
    {
      "cell_type": "code",
      "source": [
        "from sklearn.model_selection import train_test_split\n",
        "from sklearn.svm import SVC\n",
        "from sklearn.metrics import classification_report"
      ],
      "metadata": {
        "id": "ZGmKlyIG8mwa"
      },
      "execution_count": 4,
      "outputs": []
    },
    {
      "cell_type": "code",
      "source": [
        "# Train/Test Split\n",
        "X_train, X_test, y_train, y_test = train_test_split(X, y, test_size=0.2, random_state=42)"
      ],
      "metadata": {
        "id": "0G1rwfM_8u1T"
      },
      "execution_count": 5,
      "outputs": []
    },
    {
      "cell_type": "markdown",
      "source": [
        "X: Features (13 wine chemical attributes)\n",
        "\n",
        "y: Target labels (wine class: 0, 1, or 2)\n",
        "\n",
        "test_size=0.2: Reserves 20% of the data for testing and uses 80% for training.\n",
        "\n",
        "random_state=42: Ensures reproducibility — same split every time you run the code."
      ],
      "metadata": {
        "id": "pZOlC9tS9SjP"
      }
    },
    {
      "cell_type": "markdown",
      "source": [
        "X_train: Feature values for the training set (80%)\n",
        "\n",
        "X_test: Feature values for the test set (20%)\n",
        "\n",
        "y_train: Labels for the training set\n",
        "\n",
        "y_test: Labels for the test set"
      ],
      "metadata": {
        "id": "0Nn6dVNq9WTv"
      }
    },
    {
      "cell_type": "markdown",
      "source": [
        "If X has 178 samples:\n",
        "\n",
        "X_train: (142, 13)\n",
        "\n",
        "X_test: (36, 13)\n",
        "\n",
        "y_train: (142,)\n",
        "\n",
        "y_test: (36,)"
      ],
      "metadata": {
        "id": "B1lRI4oC9ZVh"
      }
    },
    {
      "cell_type": "code",
      "source": [
        "print(\"Training samples:\", len(X_train))\n",
        "print(\"Testing samples:\", len(X_test))"
      ],
      "metadata": {
        "colab": {
          "base_uri": "https://localhost:8080/"
        },
        "id": "V-EPZEzh9AKS",
        "outputId": "fbd403ad-50e7-498f-e8c0-bfbbae0e9009"
      },
      "execution_count": 7,
      "outputs": [
        {
          "output_type": "stream",
          "name": "stdout",
          "text": [
            "Training samples: 142\n",
            "Testing samples: 36\n"
          ]
        }
      ]
    },
    {
      "cell_type": "code",
      "source": [
        "# Kernels to test\n",
        "kernels = ['linear', 'rbf', 'poly', 'sigmoid']\n",
        "results = {}\n",
        "\n",
        "for kernel in kernels:\n",
        "    model = SVC(kernel=kernel, gamma='auto')\n",
        "    model.fit(X_train, y_train)\n",
        "    y_pred = model.predict(X_test)\n",
        "    report = classification_report(y_test, y_pred, output_dict=True)\n",
        "    results[kernel] = report\n",
        "    print(f\"\\nKernel: {kernel}\")\n",
        "    print(classification_report(y_test, y_pred))"
      ],
      "metadata": {
        "colab": {
          "base_uri": "https://localhost:8080/"
        },
        "id": "_oAdHoUv8se3",
        "outputId": "c9bc67dd-c7bf-4b8f-b50d-049e6e14be57"
      },
      "execution_count": 6,
      "outputs": [
        {
          "output_type": "stream",
          "name": "stdout",
          "text": [
            "\n",
            "Kernel: linear\n",
            "              precision    recall  f1-score   support\n",
            "\n",
            "           0       1.00      1.00      1.00        14\n",
            "           1       1.00      1.00      1.00        14\n",
            "           2       1.00      1.00      1.00         8\n",
            "\n",
            "    accuracy                           1.00        36\n",
            "   macro avg       1.00      1.00      1.00        36\n",
            "weighted avg       1.00      1.00      1.00        36\n",
            "\n",
            "\n",
            "Kernel: rbf\n",
            "              precision    recall  f1-score   support\n",
            "\n",
            "           0       1.00      0.07      0.13        14\n",
            "           1       0.41      1.00      0.58        14\n",
            "           2       1.00      0.12      0.22         8\n",
            "\n",
            "    accuracy                           0.44        36\n",
            "   macro avg       0.80      0.40      0.31        36\n",
            "weighted avg       0.77      0.44      0.33        36\n",
            "\n",
            "\n",
            "Kernel: poly\n",
            "              precision    recall  f1-score   support\n",
            "\n",
            "           0       1.00      1.00      1.00        14\n",
            "           1       1.00      1.00      1.00        14\n",
            "           2       1.00      1.00      1.00         8\n",
            "\n",
            "    accuracy                           1.00        36\n",
            "   macro avg       1.00      1.00      1.00        36\n",
            "weighted avg       1.00      1.00      1.00        36\n",
            "\n",
            "\n",
            "Kernel: sigmoid\n",
            "              precision    recall  f1-score   support\n",
            "\n",
            "           0       0.00      0.00      0.00        14\n",
            "           1       0.39      1.00      0.56        14\n",
            "           2       0.00      0.00      0.00         8\n",
            "\n",
            "    accuracy                           0.39        36\n",
            "   macro avg       0.13      0.33      0.19        36\n",
            "weighted avg       0.15      0.39      0.22        36\n",
            "\n"
          ]
        },
        {
          "output_type": "stream",
          "name": "stderr",
          "text": [
            "/usr/local/lib/python3.11/dist-packages/sklearn/metrics/_classification.py:1565: UndefinedMetricWarning: Precision is ill-defined and being set to 0.0 in labels with no predicted samples. Use `zero_division` parameter to control this behavior.\n",
            "  _warn_prf(average, modifier, f\"{metric.capitalize()} is\", len(result))\n",
            "/usr/local/lib/python3.11/dist-packages/sklearn/metrics/_classification.py:1565: UndefinedMetricWarning: Precision is ill-defined and being set to 0.0 in labels with no predicted samples. Use `zero_division` parameter to control this behavior.\n",
            "  _warn_prf(average, modifier, f\"{metric.capitalize()} is\", len(result))\n",
            "/usr/local/lib/python3.11/dist-packages/sklearn/metrics/_classification.py:1565: UndefinedMetricWarning: Precision is ill-defined and being set to 0.0 in labels with no predicted samples. Use `zero_division` parameter to control this behavior.\n",
            "  _warn_prf(average, modifier, f\"{metric.capitalize()} is\", len(result))\n",
            "/usr/local/lib/python3.11/dist-packages/sklearn/metrics/_classification.py:1565: UndefinedMetricWarning: Precision is ill-defined and being set to 0.0 in labels with no predicted samples. Use `zero_division` parameter to control this behavior.\n",
            "  _warn_prf(average, modifier, f\"{metric.capitalize()} is\", len(result))\n",
            "/usr/local/lib/python3.11/dist-packages/sklearn/metrics/_classification.py:1565: UndefinedMetricWarning: Precision is ill-defined and being set to 0.0 in labels with no predicted samples. Use `zero_division` parameter to control this behavior.\n",
            "  _warn_prf(average, modifier, f\"{metric.capitalize()} is\", len(result))\n",
            "/usr/local/lib/python3.11/dist-packages/sklearn/metrics/_classification.py:1565: UndefinedMetricWarning: Precision is ill-defined and being set to 0.0 in labels with no predicted samples. Use `zero_division` parameter to control this behavior.\n",
            "  _warn_prf(average, modifier, f\"{metric.capitalize()} is\", len(result))\n"
          ]
        }
      ]
    },
    {
      "cell_type": "code",
      "source": [
        "comparison = pd.DataFrame({\n",
        "    kernel: {\n",
        "        'precision': results[kernel]['weighted avg']['precision'],\n",
        "        'recall': results[kernel]['weighted avg']['recall'],\n",
        "        'accuracy': results[kernel]['accuracy']\n",
        "    }\n",
        "    for kernel in results\n",
        "}).T\n",
        "\n",
        "print(\"\\n🔍 Kernel Performance Comparison:\\n\")\n",
        "print(comparison.round(3))\n"
      ],
      "metadata": {
        "colab": {
          "base_uri": "https://localhost:8080/"
        },
        "id": "5KuaaO0E9pTn",
        "outputId": "8f082e49-5d7c-419d-95a5-929d72255785"
      },
      "execution_count": 8,
      "outputs": [
        {
          "output_type": "stream",
          "name": "stdout",
          "text": [
            "\n",
            "🔍 Kernel Performance Comparison:\n",
            "\n",
            "         precision  recall  accuracy\n",
            "linear       1.000   1.000     1.000\n",
            "rbf          0.771   0.444     0.444\n",
            "poly         1.000   1.000     1.000\n",
            "sigmoid      0.151   0.389     0.389\n"
          ]
        }
      ]
    },
    {
      "cell_type": "markdown",
      "source": [
        "Linear kernel performed best, indicating that the data is linearly separable.\n",
        "\n",
        "RBF and Polynomial kernels also performed well but slightly lower.\n",
        "\n",
        "Sigmoid kernel performed worst, which is common unless data is well suited for it."
      ],
      "metadata": {
        "id": "-xCzKQhG9yQ5"
      }
    }
  ]
}